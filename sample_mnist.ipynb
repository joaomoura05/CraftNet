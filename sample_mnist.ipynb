{
 "cells": [
  {
   "cell_type": "markdown",
   "metadata": {},
   "source": [
    "# Mnist Dataloader\n",
    "https://www.kaggle.com/code/hojjatk/read-mnist-dataset/notebook"
   ]
  },
  {
   "cell_type": "code",
   "execution_count": 1,
   "metadata": {},
   "outputs": [],
   "source": [
    "import numpy as np # linear algebra\n",
    "import struct\n",
    "from array import array\n",
    "from os.path import join\n",
    "\n",
    "# MNIST Data Loader Class\n",
    "class MnistDataloader(object):\n",
    "    def __init__(self, training_images_filepath,training_labels_filepath,\n",
    "                 test_images_filepath, test_labels_filepath):\n",
    "        self.training_images_filepath = training_images_filepath\n",
    "        self.training_labels_filepath = training_labels_filepath\n",
    "        self.test_images_filepath = test_images_filepath\n",
    "        self.test_labels_filepath = test_labels_filepath\n",
    "    \n",
    "    def read_images_labels(self, images_filepath, labels_filepath):        \n",
    "        labels = []\n",
    "        with open(labels_filepath, 'rb') as file:\n",
    "            magic, size = struct.unpack(\">II\", file.read(8))\n",
    "            if magic != 2049:\n",
    "                raise ValueError('Magic number mismatch, expected 2049, got {}'.format(magic))\n",
    "            labels = array(\"B\", file.read())        \n",
    "        \n",
    "        with open(images_filepath, 'rb') as file:\n",
    "            magic, size, rows, cols = struct.unpack(\">IIII\", file.read(16))\n",
    "            if magic != 2051:\n",
    "                raise ValueError('Magic number mismatch, expected 2051, got {}'.format(magic))\n",
    "            image_data = array(\"B\", file.read())        \n",
    "        images = []\n",
    "        for i in range(size):\n",
    "            images.append([0] * rows * cols)\n",
    "        for i in range(size):\n",
    "            img = np.array(image_data[i * rows * cols:(i + 1) * rows * cols])\n",
    "            img = img.reshape(28, 28)\n",
    "            images[i][:] = img            \n",
    "        # print(images)\n",
    "        return images, labels\n",
    "            \n",
    "    def load_data(self):\n",
    "        x_train, y_train = self.read_images_labels(self.training_images_filepath, self.training_labels_filepath)\n",
    "        x_test, y_test = self.read_images_labels(self.test_images_filepath, self.test_labels_filepath)\n",
    "        return x_train, y_train, x_test, y_test"
   ]
  },
  {
   "cell_type": "code",
   "execution_count": 2,
   "metadata": {},
   "outputs": [],
   "source": [
    "# Set file paths based on added MNIST Datasets\n",
    "input_path = r'./mnist/'\n",
    "training_images_filepath = join(input_path, 'train-images.idx3-ubyte')\n",
    "training_labels_filepath = join(input_path, 'train-labels.idx1-ubyte')\n",
    "test_images_filepath = join(input_path, 't10k-images.idx3-ubyte')\n",
    "test_labels_filepath = join(input_path, 't10k-labels.idx1-ubyte')\n",
    "\n",
    "# Load MINST dataset\n",
    "mnist_dataloader = MnistDataloader(training_images_filepath, training_labels_filepath, test_images_filepath, test_labels_filepath)\n",
    "train_img, train_lbs, test_img, test_lbs = mnist_dataloader.load_data()"
   ]
  },
  {
   "cell_type": "code",
   "execution_count": 3,
   "metadata": {},
   "outputs": [
    {
     "data": {
      "text/plain": [
       "numpy.ndarray"
      ]
     },
     "execution_count": 3,
     "metadata": {},
     "output_type": "execute_result"
    }
   ],
   "source": [
    "type(train_img[0][0])"
   ]
  },
  {
   "cell_type": "markdown",
   "metadata": {},
   "source": [
    "# Leitura mnist utilizando 'with open'"
   ]
  },
  {
   "cell_type": "code",
   "execution_count": 4,
   "metadata": {},
   "outputs": [],
   "source": [
    "with open(training_images_filepath, 'rb') as i:\n",
    "    magic, size = struct.unpack('>II', i.read(8))\n",
    "    train_img = np.fromfile(i, dtype=np.dtype(np.uint8)).newbyteorder(\">\")  \n",
    "\n",
    "with open(training_labels_filepath, 'rb') as i:\n",
    "    magic, size = struct.unpack('>II', i.read(8))\n",
    "    train_lbs = np.fromfile(i, dtype=np.dtype(np.uint8)).newbyteorder(\">\")\n",
    "\n",
    "with open(test_images_filepath, 'rb') as i:\n",
    "    magic, size = struct.unpack('>II', i.read(8))\n",
    "    test_img = np.fromfile(i, dtype=np.dtype(np.uint8)).newbyteorder(\">\")\n",
    "\n",
    "with open(test_labels_filepath, 'rb') as i:\n",
    "    magic, size = struct.unpack('>II', i.read(8))\n",
    "    test_lbs = np.fromfile(i, dtype=np.dtype(np.uint8)).newbyteorder(\">\")"
   ]
  },
  {
   "cell_type": "markdown",
   "metadata": {},
   "source": [
    "# Leitura utilizando idx2numpy"
   ]
  },
  {
   "cell_type": "code",
   "execution_count": 5,
   "metadata": {},
   "outputs": [
    {
     "name": "stdout",
     "output_type": "stream",
     "text": [
      "(60000, 1, 784)\n",
      "(60000, 1)\n",
      "(10000, 1, 784)\n",
      "(10000, 1)\n"
     ]
    }
   ],
   "source": [
    "import numpy as np\n",
    "import idx2numpy\n",
    "\n",
    "train_img = idx2numpy.convert_from_file(r\"./mnist/train-images.idx3-ubyte\").reshape(60000,1,28*28)\n",
    "train_lbs = idx2numpy.convert_from_file(r\"./mnist/train-labels.idx1-ubyte\").reshape(-1,1)\n",
    "\n",
    "test_img = idx2numpy.convert_from_file(r\"./mnist/t10k-images.idx3-ubyte\").reshape(10000,1,28*28)\n",
    "test_lbs = idx2numpy.convert_from_file(r\"./mnist/t10k-labels.idx1-ubyte\").reshape(-1,1)\n",
    "\n",
    "print(train_img.shape)\n",
    "print(train_lbs.shape)\n",
    "print(test_img.shape)\n",
    "print(test_lbs.shape)"
   ]
  },
  {
   "cell_type": "markdown",
   "metadata": {},
   "source": [
    "# Normalização dos valores entre [0,1]"
   ]
  },
  {
   "cell_type": "code",
   "execution_count": 6,
   "metadata": {},
   "outputs": [],
   "source": [
    "train_img = train_img.astype(\"float32\") / 255\n",
    "test_img = test_img.astype(\"float32\") / 255"
   ]
  },
  {
   "cell_type": "markdown",
   "metadata": {},
   "source": [
    "# One Hot Encoding Labels"
   ]
  },
  {
   "cell_type": "code",
   "execution_count": 7,
   "metadata": {},
   "outputs": [],
   "source": [
    "def OHE(y_lbs:np.ndarray,num_classes:int):\n",
    "    ohs = np.zeros((y_lbs.shape[0],num_classes))\n",
    "    for i,j in enumerate(y_lbs):\n",
    "        ohs[i][j] = 1\n",
    "    return ohs\n",
    "\n",
    "train_lbs = OHE(train_lbs,10)\n",
    "test_lbs = OHE(test_lbs,10)"
   ]
  },
  {
   "cell_type": "markdown",
   "metadata": {},
   "source": [
    "# Implementação da rede"
   ]
  },
  {
   "cell_type": "code",
   "execution_count": 8,
   "metadata": {},
   "outputs": [],
   "source": [
    "# import numpy as np\n",
    "\n",
    "from network import Network\n",
    "from fc_layer import FCLayer\n",
    "from activation_layer import ActivationLayer\n",
    "from MiniBatchGD import mini_batch\n",
    "from activations import (\n",
    "    tanh,\n",
    "    tanh_prime,\n",
    "    sigmoid,\n",
    "    sigmoid_prime,\n",
    "    ReLU,\n",
    "    ReLU_prime,\n",
    "    leakyReLU,\n",
    "    leakyReLU_prime,\n",
    "    linear,\n",
    "    linear_prime,\n",
    "    softmax,\n",
    "    softmax_prime\n",
    ")\n",
    "from losses import mse, mse_prime\n",
    "from optimizers import adam, sgd\n",
    "from weights import (\n",
    "    he_normal,\n",
    "    he_uniform,\n",
    "    normal,\n",
    "    uniform,\n",
    "    xavier_normal,\n",
    "    xavier_uniform,\n",
    ")"
   ]
  },
  {
   "cell_type": "code",
   "execution_count": 9,
   "metadata": {},
   "outputs": [
    {
     "name": "stdout",
     "output_type": "stream",
     "text": [
      "epoch 1/10   error=1.0599\n",
      "epoch 2/10   error=0.8387\n",
      "epoch 3/10   error=0.7641\n",
      "epoch 4/10   error=0.7083\n",
      "epoch 5/10   error=0.6628\n",
      "epoch 6/10   error=0.6365\n",
      "epoch 7/10   error=0.6066\n",
      "epoch 8/10   error=0.5861\n",
      "epoch 9/10   error=0.5634\n",
      "epoch 10/10   error=0.5441\n"
     ]
    }
   ],
   "source": [
    "net = Network()\n",
    "net.add(FCLayer(28 * 28, 100))\n",
    "net.add(ActivationLayer(sigmoid, sigmoid_prime))\n",
    "net.add(FCLayer(100, 50))\n",
    "net.add(ActivationLayer(leakyReLU, leakyReLU_prime))\n",
    "net.add(FCLayer(50, 10))\n",
    "net.add(ActivationLayer(tanh, tanh_prime))\n",
    "\n",
    "# train\n",
    "net.use(mse, mse_prime)\n",
    "net.fit(train_img, train_lbs, epochs=10, batch_size=32, optimizer=adam())\n",
    "\n",
    "# test\n",
    "out = net.predict(test_img)\n"
   ]
  },
  {
   "cell_type": "code",
   "execution_count": 10,
   "metadata": {},
   "outputs": [
    {
     "name": "stdout",
     "output_type": "stream",
     "text": [
      "    Label: [7, 2, 1, 0, 4, 1, 4, 9, 5, 9, 0, 6, 9, 0, 1, 5, 9, 7, 3, 4]\n",
      "Predicted: [7, 2, 1, 0, 4, 1, 4, 9, 6, 9, 0, 6, 9, 0, 1, 5, 9, 7, 3, 4]\n"
     ]
    }
   ],
   "source": [
    "print(\"    Label:\",[(np.argmax(x)) for x in test_lbs[:20]])\n",
    "print(\"Predicted:\",[(np.argmax(x)) for x in out[:20]])"
   ]
  },
  {
   "cell_type": "markdown",
   "metadata": {},
   "source": [
    "# Acurácia"
   ]
  },
  {
   "cell_type": "code",
   "execution_count": 11,
   "metadata": {},
   "outputs": [
    {
     "name": "stdout",
     "output_type": "stream",
     "text": [
      "Accuracy: 0.8912\n"
     ]
    }
   ],
   "source": [
    "from metrics import accuracy\n",
    "\n",
    "acc = accuracy(test_lbs,out)\n",
    "print(f\"Accuracy: {acc:.4f}\")"
   ]
  }
 ],
 "metadata": {
  "kernelspec": {
   "display_name": "dl",
   "language": "python",
   "name": "python3"
  },
  "language_info": {
   "codemirror_mode": {
    "name": "ipython",
    "version": 3
   },
   "file_extension": ".py",
   "mimetype": "text/x-python",
   "name": "python",
   "nbconvert_exporter": "python",
   "pygments_lexer": "ipython3",
   "version": "3.10.13"
  }
 },
 "nbformat": 4,
 "nbformat_minor": 2
}
